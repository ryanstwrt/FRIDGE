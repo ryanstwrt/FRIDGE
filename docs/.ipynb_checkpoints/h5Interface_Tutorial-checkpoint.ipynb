{
 "cells": [
  {
   "cell_type": "code",
   "execution_count": 5,
   "metadata": {},
   "outputs": [],
   "source": [
    "import fridge\n",
    "import fridge.utilities.outputInterface as OI\n",
    "import fridge.utilities.h5Interface as h5i\n",
    "import fridge.utilities.reactorInterface as RI\n",
    "import os"
   ]
  },
  {
   "cell_type": "markdown",
   "metadata": {},
   "source": [
    "# Using the h5Interface\n",
    "\n",
    "This tutorial will run through how to use the `h5Interface` to examine the outputs of an MCNP file.\n",
    "This is started by creating an instance of the `h5Interface`.\n",
    "After this we create the initial h5 file via the `create_h5` method.\n",
    "We note that an `output_name` can be passed as a keyword argument to title the h5 file that will be created.\n"
   ]
  },
  {
   "cell_type": "code",
   "execution_count": 2,
   "metadata": {},
   "outputs": [],
   "source": [
    "h5_interface = h5i.h5Interface()\n",
    "h5_interface.create_h5()"
   ]
  },
  {
   "cell_type": "markdown",
   "metadata": {},
   "source": [
    "# Add a Reactor\n",
    "\n",
    "Once an h5_interface has been built, a reactor can be added to it via the `add_reactor` method.\n",
    "It requires the name of the outpuf file it is looking, along with a path if it is not in the current directory.\n",
    "\n",
    "Note: `FRIDGe` expects the output files to be in a `.out` format."
   ]
  },
  {
   "cell_type": "code",
   "execution_count": 3,
   "metadata": {},
   "outputs": [],
   "source": [
    "for root, dirs, files in os.walk('/Users/ryanstewart/projects/sfr_database'):\n",
    "    for file in files:\n",
    "        if '.out' in file:\n",
    "            try:\n",
    "                h5_interface.add_reactor(file, path=root)\n",
    "            except ValueError:\n",
    "                pass"
   ]
  },
  {
   "cell_type": "markdown",
   "metadata": {},
   "source": [
    "# H5 Database Structure\n",
    "\n",
    "The structure of the H5 database can be seen in the figure below."
   ]
  },
  {
   "cell_type": "markdown",
   "metadata": {},
   "source": [
    "# Independent Variables\n",
    "\n",
    "Now that two reactors have been added, let's examine the independent variables for each reactor.\n",
    "Currently, the independent variables are assocaited with the output file name.\n",
    "For example, `FC_FS65_H75_23Pu4U_BU` will create the independent variables for fuel smear, height, plutonium content, uranium content, and the fact that this is the burnup. \n",
    "In the future, this may be created when FRIDGe builds the input file.\n",
    "\n",
    "To access different parameters, the `h5file` attribute should be called.\n",
    "This points to the `h5py` h5 file.\n",
    "Reading the h5 file involves accessing different layers, similar to accessing a dictionary.\n",
    "Below we access the independent variables for both cores that were loaded.\n",
    "\n",
    "We see that for each core we have an associated height, plutonium content, uranium content, and smear."
   ]
  },
  {
   "cell_type": "code",
   "execution_count": null,
   "metadata": {},
   "outputs": [],
   "source": [
    "reactor_db = {}\n",
    "iv = 'independent variables'\n",
    "for rx, core in h5_interface.h5file.items():\n",
    "    reactor_db[rx] = {}    \n",
    "    ind = core['independent variables']\n",
    "    for k,v in core[iv].items():\n",
    "        reactor_db[rx][k] = v[0]\n",
    "print(reactor_db)"
   ]
  },
  {
   "cell_type": "markdown",
   "metadata": {},
   "source": [
    "# Dependent Variables\n",
    "\n",
    "Now we want to access information that MCNP generated during its run.\n",
    "To do this, we access the `rx_parameters` of the reactor in question.\n",
    "Each specific reactor will have a set of `rx_parameters` based on the MCNP output.\n",
    "For example, if we are curious about the eigenvalue (keff) for the begining and end cycle.\n",
    "We need to access the `BU` file for each reactor type, and then examine `step_0` and `step_6` to determine the eigenvalue.\n",
    "Where `step_0` and `step_6` are only signficant because we know that those are the begining and end of cycle burnup steps\n",
    "Where we now have a set of independent variables that map to our begining of life and end of life eigenvalues."
   ]
  },
  {
   "cell_type": "code",
   "execution_count": 11,
   "metadata": {},
   "outputs": [
    {
     "name": "stdout",
     "output_type": "stream",
     "text": [
      "1.1164\n",
      "Reactor Dependent Variables for FS55_H75_23Pu4U10Zr \n",
      " BOL - keff: 1.1164 \n",
      " EOL - keff: 1.03306\n",
      "1.20861\n",
      "Reactor Dependent Variables for FS60_H80_27Pu0U10Zr \n",
      " BOL - keff: 1.20861 \n",
      " EOL - keff: 1.13203\n",
      "1.10403\n",
      "Reactor Dependent Variables for FS65_H75_11Pu16U10Zr \n",
      " BOL - keff: 1.10403 \n",
      " EOL - keff: 1.0402\n",
      "1.20837\n",
      "Reactor Dependent Variables for FS65_H75_23Pu4U10Zr \n",
      " BOL - keff: 1.20837 \n",
      " EOL - keff: 1.13466\n",
      "1.0362\n",
      "Reactor Dependent Variables for FS65_H75_3Pu24U10Zr \n",
      " BOL - keff: 1.0362 \n",
      " EOL - keff: 0.97927\n",
      "1.15092\n",
      "Reactor Dependent Variables for FS70_H50_27Pu0U10Zr \n",
      " BOL - keff: 1.15092 \n",
      " EOL - keff: 1.04895\n",
      "1.2978\n",
      "Reactor Dependent Variables for FS70_H80_27Pu0U10Zr \n",
      " BOL - keff: 1.2978 \n",
      " EOL - keff: 1.22993\n",
      "1.00938\n",
      "Reactor Dependent Variables for FS70_H80_27U10Zr \n",
      " BOL - keff: 1.00938 \n",
      " EOL - keff: 0.96145\n"
     ]
    }
   ],
   "source": [
    "reactor_db = {}\n",
    "for rx, core in h5_interface.h5file.items():\n",
    "    try:\n",
    "        keff_bol = core['{}_BU'.format(rx)]['step_0']['rx_parameters']['keff'][0]\n",
    "        keff_eol = core['{}_BU'.format(rx)]['step_6']['rx_parameters']['keff'][0]\n",
    "        rx_ = RI.reactorInterface(core)\n",
    "        print(rx_.rx_step_params['step_0']['keff'][0], rx_.rx_step_params['step_0']['keff unc'][0])\n",
    "        print(rx_.base_rx['step_0']['keff'][0], rx_.base_rx['step_0']['keff unc'][0])\n",
    "        print('Reactor Dependent Variables for {} \\n BOL - keff: {} \\n EOL - keff: {}'.format(rx,keff_bol,keff_eol))\n",
    "    except KeyError:\n",
    "              pass"
   ]
  },
  {
   "cell_type": "markdown",
   "metadata": {},
   "source": [
    "# Assembly Variables\n",
    "\n",
    "Now we want to examine information on an assembly basis, rather than integral core parameters.\n",
    "Similar to the `rx_parameters`, we can examine assembly paramters in the `assemblies` directory.\n"
   ]
  },
  {
   "cell_type": "code",
   "execution_count": 43,
   "metadata": {},
   "outputs": [
    {
     "name": "stdout",
     "output_type": "stream",
     "text": [
      "Assembly Properties for FS55_H75_23Pu4U10Zr \n",
      " Assembly Average BU: 44.974 \n",
      " Average Power: 3.896 \n",
      " Peak Burnup: 1.316 \n",
      " Peak Power: 4.974 \n",
      " Rx Swing: 7226.17\n",
      "Assembly Properties for FS60_H80_27Pu0U10Zr \n",
      " Assembly Average BU: 38.53 \n",
      " Average Power: 3.896 \n",
      " Peak Burnup: 1.329 \n",
      " Peak Power: 5.046 \n",
      " Rx Swing: 5597.21\n",
      "Assembly Properties for FS65_H75_11Pu16U10Zr \n",
      " Assembly Average BU: 38.516 \n",
      " Average Power: 3.896 \n",
      " Peak Burnup: 1.324 \n",
      " Peak Power: 5.022 \n",
      " Rx Swing: 5558.11\n",
      "Assembly Properties for FS65_H75_23Pu4U10Zr \n",
      " Assembly Average BU: 38.055 \n",
      " Average Power: 3.896 \n",
      " Peak Burnup: 1.332 \n",
      " Peak Power: 5.052 \n",
      " Rx Swing: 5376.02\n",
      "Assembly Properties for FS65_H75_3Pu24U10Zr \n",
      " Assembly Average BU: 38.815 \n",
      " Average Power: 3.896 \n",
      " Peak Burnup: 1.32 \n",
      " Peak Power: 5.013 \n",
      " Rx Swing: 5610.42\n",
      "Assembly Properties for FS70_H50_27Pu0U10Zr \n",
      " Assembly Average BU: 52.841 \n",
      " Average Power: 3.896 \n",
      " Peak Burnup: 1.323 \n",
      " Peak Power: 4.971 \n",
      " Rx Swing: 8446.42\n",
      "Assembly Properties for FS70_H80_27Pu0U10Zr \n",
      " Assembly Average BU: 33.026 \n",
      " Average Power: 3.896 \n",
      " Peak Burnup: 1.344 \n",
      " Peak Power: 5.112 \n",
      " Rx Swing: 4251.97\n",
      "Assembly Properties for FS70_H80_27U10Zr \n",
      " Assembly Average BU: 33.876 \n",
      " Average Power: 3.896 \n",
      " Peak Burnup: 1.326 \n",
      " Peak Power: 5.061 \n",
      " Rx Swing: 4938.85\n"
     ]
    }
   ],
   "source": [
    "def avg_assem(core, param):\n",
    "    a_tot = 0\n",
    "    for num, assem in enumerate(core.values()):\n",
    "        a_p = assem[param][0]\n",
    "        a_tot += a_p\n",
    "    return a_tot/num\n",
    "\n",
    "def peak_to_average(core, param):\n",
    "    a_peak = 0\n",
    "    a_avg = avg_assem(core, param)\n",
    "    for assem in core.values():\n",
    "        if assem[param][0] > a_peak:\n",
    "            a_peak = assem[param][0]\n",
    "    return a_peak/a_avg\n",
    "    \n",
    "reactor_db = {}\n",
    "for rx, core in h5_interface.h5file.items():\n",
    "    step = 'step_6'\n",
    "    try:\n",
    "        core_step = core['{}_BU'.format(rx)][step]\n",
    "        core_0 = core['{}_BU'.format(rx)]['step_0']\n",
    "        assem = core_step['assemblies']\n",
    "        assem_power = assem['122']['power fraction'][0]\n",
    "        avg_power = round(avg_assem(assem, 'power fraction') * 300, 3)\n",
    "        peak_power = round(peak_to_average(assem, 'power fraction') * avg_power, 3)\n",
    "        assem_bu = assem['122']['burnup'][0]\n",
    "        avg_bu = round(avg_assem(assem, 'burnup'),3)\n",
    "        peak_bu = round(peak_to_average(assem, 'burnup'),3)\n",
    "        keff_0 = core_0['rx_parameters']['keff'][0]\n",
    "        keff_step = core_step['rx_parameters']['keff'][0]\n",
    "        rx_swing = round((keff_0 - keff_step)/(keff_0*keff_step) * 1E5, 2)\n",
    "        print('Assembly Properties for {} \\n Assembly Average BU: {} \\n Average Power: {} \\n Peak Burnup: {} \\n Peak Power: {} \\n Rx Swing: {}'.format(rx, avg_bu, avg_power, peak_bu, peak_power, rx_swing))\n",
    "    except KeyError:\n",
    "        pass\n"
   ]
  },
  {
   "cell_type": "code",
   "execution_count": 18,
   "metadata": {},
   "outputs": [
    {
     "data": {
      "text/plain": [
       "<KeysViewHDF5 ['FS65_H75_23Pu4U10Zr_600K', 'FS65_H75_23Pu4U10Zr_BU', 'FS65_H75_23Pu4U10Zr_BU-checkpoint', 'FS65_H75_23Pu4U10Zr_Void', 'independent variables']>"
      ]
     },
     "execution_count": 18,
     "metadata": {},
     "output_type": "execute_result"
    }
   ],
   "source": [
    "h5_interface.h5file['FS65_H75_23Pu4U10Zr'].keys()#['FS65_H75_23Pu4U10Zr']['step_0']['assemblies'].keys()"
   ]
  },
  {
   "cell_type": "code",
   "execution_count": null,
   "metadata": {},
   "outputs": [],
   "source": [
    "def avg_assem(core, param):\n",
    "    a_tot = 0\n",
    "    for num, assem in enumerate(core.values()):\n",
    "        a_p = assem[param][0]\n",
    "        a_tot += a_p\n",
    "    return a_tot/num\n",
    "\n",
    "def peak_to_average(core, param):\n",
    "    a_peak = 0\n",
    "    a_avg = avg_assem(core, param)\n",
    "    for assem in core.values():\n",
    "        if assem[param][0] > a_peak:\n",
    "            a_peak = assem[param][0]\n",
    "    return a_peak/a_avg\n",
    "    \n",
    "    \n",
    "reactor_db = {}\n",
    "for rx, core in h5_interface.h5file.items():\n",
    "    ind = core['independent variables']\n",
    "    keff_bol = core['{}_BU'.format(rx)]['step_0']['rx_parameters']['keff'][0]\n",
    "    keff_eol = core['{}_BU'.format(rx)]['step_6']['rx_parameters']['keff'][0]\n",
    "    assem_power = core['{}_BU'.format(rx)]['step_6']['assemblies']['122']['power fraction'][0]\n",
    "    avg_power = round(avg_assem(core['{}_BU'.format(rx)]['step_6']['assemblies'], 'power fraction') * 300, 3)\n",
    "    peak_power = round(peak_to_average(core['{}_BU'.format(rx)]['step_6']['assemblies'], 'power fraction') * avg_power, 3)\n",
    "    assem_bu = core['{}_BU'.format(rx)]['step_6']['assemblies']['122']['burnup'][0]\n",
    "    avg_bu = round(avg_assem(core['{}_BU'.format(rx)]['step_6']['assemblies'], 'burnup'),3)\n",
    "    peak_bu = round(peak_to_average(core['{}_BU'.format(rx)]['step_6']['assemblies'], 'burnup'),3)\n",
    "    reactor_db[rx] = {'ind': (ind['height'][0], ind['smear'][0], ind['pu_content'][0], ind['u_content'][0]), \n",
    "                      'obj': (keff_bol, keff_eol, assem_power, avg_power, peak_power, assem_bu)}\n",
    "    print('Reactor Properties for {} \\n Average BU: {} \\n Average Power: {} \\n Peak Burnup: {} \\n Peak Power: {}'.format(rx, avg_bu, avg_power, peak_bu, peak_power))\n",
    "\n",
    "\n",
    "#print(reactor_db)\n"
   ]
  }
 ],
 "metadata": {
  "kernelspec": {
   "display_name": "Python 3",
   "language": "python",
   "name": "python3"
  },
  "language_info": {
   "codemirror_mode": {
    "name": "ipython",
    "version": 3
   },
   "file_extension": ".py",
   "mimetype": "text/x-python",
   "name": "python",
   "nbconvert_exporter": "python",
   "pygments_lexer": "ipython3",
   "version": "3.7.3"
  }
 },
 "nbformat": 4,
 "nbformat_minor": 4
}
